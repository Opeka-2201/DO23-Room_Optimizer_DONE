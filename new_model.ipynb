{
 "cells": [
  {
   "cell_type": "code",
   "execution_count": 1,
   "metadata": {},
   "outputs": [],
   "source": [
    "from gurobipy import *\n",
    "import pandas as pd\n",
    "import json\n",
    "from tqdm import tqdm\n",
    "import os"
   ]
  },
  {
   "attachments": {},
   "cell_type": "markdown",
   "metadata": {},
   "source": [
    "## Base Data Loading\n",
    "\n",
    "Loading the data given for the project.\n",
    "\n",
    "Note that the file `SallesDeCours.csv` has been slightly modified because the encoding was not correct."
   ]
  },
  {
   "cell_type": "code",
   "execution_count": 2,
   "metadata": {},
   "outputs": [],
   "source": [
    "def load_data(day):\n",
    "    # day must be 18 to 21\n",
    "    if day != 18 and day != 19 and day != 20 and day != 21:\n",
    "        raise Exception('Invalid day')\n",
    "    # Load data\n",
    "    with open('data/students{}.json'.format(day)) as students_file:\n",
    "        students_per_course = json.load(students_file)\n",
    "    \n",
    "    courses = pd.read_csv('data/Events{}.csv'.format(day), sep='\\t', index_col=0)\n",
    "    courses['Start'] = pd.to_datetime(courses['Start'])\n",
    "    courses['End'] = pd.to_datetime(courses['End'])\n",
    "\n",
    "    return students_per_course, courses\n"
   ]
  },
  {
   "cell_type": "code",
   "execution_count": 3,
   "metadata": {},
   "outputs": [],
   "source": [
    "\n",
    "s_c18, c18 = load_data(18)\n",
    "s_c19, c19 = load_data(19)\n",
    "s_c20, c20 = load_data(20)\n",
    "s_c21, c21 = load_data(21)\n",
    "\n",
    "distances = pd.read_excel('data/distances.xlsx', index_col=0)\n",
    "classrooms = pd.read_csv('data/SallesDeCours.csv', sep=';', index_col=0)"
   ]
  },
  {
   "attachments": {},
   "cell_type": "markdown",
   "metadata": {},
   "source": [
    "## Additional Data Computing\n",
    "\n",
    "Six new data structures are computed from the base data:\n",
    "\n",
    "- `distances`: update version containing the lower triangular matrix of distances between each pair of sectors\n",
    "- `distance_between_classrooms`: a matrix containing the distance between each pair of classrooms\n",
    "- `conflictsNN`: a matrix containing 1 if there's a conflicting schedule between each pair of courses\n",
    "- `enrolledNN`: a matrix containing the number of students enrolled in each course\n",
    "- `courses_per_studentNN`: a dictionary containing the courses followed by each student sorted by the start time\n",
    "- `flowsNN`: a matrix containing the flows of students moving from a course to another"
   ]
  },
  {
   "cell_type": "code",
   "execution_count": 4,
   "metadata": {},
   "outputs": [],
   "source": [
    "save = False"
   ]
  },
  {
   "cell_type": "code",
   "execution_count": 5,
   "metadata": {},
   "outputs": [],
   "source": [
    "def compute_distance_between_classrooms(distances, classrooms):\n",
    "    print('Computing distance between sectors ...')\n",
    "    distances = distances.fillna(0)\n",
    "    for i in tqdm(range(len(distances))):\n",
    "        for j in range(0, i):\n",
    "            distances.iloc[i, j] = distances.iloc[j, i]\n",
    "\n",
    "    print('Computing distance between classrooms ...')\n",
    "    distance_between_classrooms = pd.DataFrame(index=classrooms.index, columns=classrooms.index)\n",
    "    for i in tqdm(range(len(classrooms))):\n",
    "        building_i = classrooms.iloc[i]['Building']\n",
    "        for j in range(len(classrooms)):\n",
    "            building_j = classrooms.iloc[j]['Building']\n",
    "            if building_i == building_j:\n",
    "                distance_between_classrooms.iloc[i, j] = 0\n",
    "            else:\n",
    "                distance_between_classrooms.iloc[i, j] = distances.loc[building_i[0], building_j[0]]\n",
    "\n",
    "    return distances, distance_between_classrooms"
   ]
  },
  {
   "cell_type": "code",
   "execution_count": 6,
   "metadata": {},
   "outputs": [],
   "source": [
    "if save:\n",
    "    distances, distance_between_classrooms = compute_distance_between_classrooms(distances, classrooms)"
   ]
  },
  {
   "cell_type": "code",
   "execution_count": 7,
   "metadata": {},
   "outputs": [],
   "source": [
    "def time_intersect(e1, e2):\n",
    "    # event 2 starts or ends during event 1\n",
    "    if e1[0] < e2[0] < e1[1] or e1[0] < e2[1] < e1[1]:\n",
    "        return 1\n",
    "    # event 1 starts or ends during event 2\n",
    "    elif e2[0] < e1[0] < e2[1] or e2[0] < e1[1] < e2[1]:\n",
    "        return 1\n",
    "    else:\n",
    "        return 0\n",
    "    \n",
    "def compute_conflicts(courses):\n",
    "    print('Computing conflicts between courses ...')\n",
    "    # use index of courses to create double entry dataframe conflicts\n",
    "    conflicts = pd.DataFrame(index=courses.index, columns=courses.index)\n",
    "    for i in tqdm(range(len(courses))):\n",
    "        for j in range(len(courses)):\n",
    "            if i == j:\n",
    "                conflicts.iloc[i, j] = 0\n",
    "            else:\n",
    "                conflicts.iloc[i, j] = time_intersect((courses.iloc[i]['Start'], courses.iloc[i]['End']), (courses.iloc[j]['Start'], courses.iloc[j]['End']))\n",
    "\n",
    "    return conflicts"
   ]
  },
  {
   "cell_type": "code",
   "execution_count": 8,
   "metadata": {},
   "outputs": [],
   "source": [
    "if save:\n",
    "    conflicts18 = compute_conflicts(c18)\n",
    "    conflicts19 = compute_conflicts(c19)\n",
    "    conflicts20 = compute_conflicts(c20)\n",
    "    conflicts21 = compute_conflicts(c21)"
   ]
  },
  {
   "cell_type": "code",
   "execution_count": 9,
   "metadata": {},
   "outputs": [],
   "source": [
    "def compute_enrolled(students_per_course):\n",
    "    print('Computing number of students enrolled in each course ...')\n",
    "    enrolled = pd.DataFrame(index=students_per_course.keys(), columns=['Enrolled'])\n",
    "    for course in tqdm(students_per_course.keys()):\n",
    "        enrolled.loc[course, 'Enrolled'] = len(students_per_course[course])\n",
    "\n",
    "    return enrolled"
   ]
  },
  {
   "cell_type": "code",
   "execution_count": 10,
   "metadata": {},
   "outputs": [],
   "source": [
    "if save:\n",
    "    enrolled18 = compute_enrolled(s_c18)\n",
    "    enrolled19 = compute_enrolled(s_c19)\n",
    "    enrolled20 = compute_enrolled(s_c20)\n",
    "    enrolled21 = compute_enrolled(s_c21)"
   ]
  },
  {
   "cell_type": "code",
   "execution_count": 11,
   "metadata": {},
   "outputs": [],
   "source": [
    "def compute_courses_per_student(students_per_course, courses):\n",
    "    courses_per_student = {}\n",
    "    print('Computing courses for each student ...')\n",
    "    for course in tqdm(students_per_course):\n",
    "        for student in students_per_course[course]:\n",
    "            if student not in courses_per_student:\n",
    "                courses_per_student[student] = [course]\n",
    "            else:\n",
    "                courses_per_student[student].append(course)\n",
    "\n",
    "    print('Sorting by start time ...')\n",
    "    for student in tqdm(courses_per_student):\n",
    "        courses_per_student[student] = sorted(courses_per_student[student], key=lambda x: courses.loc[x]['Start'])\n",
    "\n",
    "    return courses_per_student"
   ]
  },
  {
   "cell_type": "code",
   "execution_count": 12,
   "metadata": {},
   "outputs": [],
   "source": [
    "if save:\n",
    "    courses_per_student18 = compute_courses_per_student(s_c18, c18)\n",
    "    courses_per_student19 = compute_courses_per_student(s_c19, c19)\n",
    "    courses_per_student20 = compute_courses_per_student(s_c20, c20)\n",
    "    courses_per_student21 = compute_courses_per_student(s_c21, c21)"
   ]
  },
  {
   "cell_type": "code",
   "execution_count": 13,
   "metadata": {},
   "outputs": [],
   "source": [
    "def compute_flows(courses, courses_per_student):\n",
    "    print('Computing student flows between courses ...')\n",
    "    flows = pd.DataFrame(index=courses.index, columns=courses.index)\n",
    "    flows = flows.fillna(0)\n",
    "    \n",
    "    for student in tqdm(courses_per_student):\n",
    "        for i in range(len(courses_per_student[student])):\n",
    "            for j in range(i+1, len(courses_per_student[student])):\n",
    "                flows.loc[courses_per_student[student][i], courses_per_student[student][j]] += 1\n",
    "\n",
    "    return flows"
   ]
  },
  {
   "cell_type": "code",
   "execution_count": 14,
   "metadata": {},
   "outputs": [],
   "source": [
    "if save:\n",
    "    flows18 = compute_flows(c18, courses_per_student18)\n",
    "    flows19 = compute_flows(c19, courses_per_student19)\n",
    "    flows20 = compute_flows(c20, courses_per_student20)\n",
    "    flows21 = compute_flows(c21, courses_per_student21)"
   ]
  },
  {
   "cell_type": "code",
   "execution_count": 15,
   "metadata": {},
   "outputs": [],
   "source": [
    "if save:\n",
    "    if not os.path.exists('data/model_data'):\n",
    "        os.makedirs('data/model_data')\n",
    "\n",
    "    distances.to_csv('data/model_data/distances.csv')\n",
    "\n",
    "    distance_between_classrooms.to_csv('data/model_data/distance_between_classrooms.csv')\n",
    "\n",
    "    conflicts18.to_csv('data/model_data/conflicts18.csv')\n",
    "    conflicts19.to_csv('data/model_data/conflicts19.csv')\n",
    "    conflicts20.to_csv('data/model_data/conflicts20.csv')\n",
    "    conflicts21.to_csv('data/model_data/conflicts21.csv')\n",
    "\n",
    "    enrolled18.to_csv('data/model_data/enrolled18.csv')\n",
    "    enrolled19.to_csv('data/model_data/enrolled19.csv')\n",
    "    enrolled20.to_csv('data/model_data/enrolled20.csv')\n",
    "    enrolled21.to_csv('data/model_data/enrolled21.csv')\n",
    "\n",
    "    with open('data/model_data/courses_per_student18.json', 'w') as fp:\n",
    "        json.dump(courses_per_student18, fp)\n",
    "    with open('data/model_data/courses_per_student19.json', 'w') as fp:\n",
    "        json.dump(courses_per_student19, fp)\n",
    "    with open('data/model_data/courses_per_student20.json', 'w') as fp:\n",
    "        json.dump(courses_per_student20, fp)\n",
    "    with open('data/model_data/courses_per_student21.json', 'w') as fp:\n",
    "        json.dump(courses_per_student21, fp)\n",
    "\n",
    "    flows18.to_csv('data/model_data/flows18.csv')\n",
    "    flows19.to_csv('data/model_data/flows19.csv')\n",
    "    flows20.to_csv('data/model_data/flows20.csv')\n",
    "    flows21.to_csv('data/model_data/flows21.csv')\n",
    "\n",
    "    print('Done!')"
   ]
  },
  {
   "attachments": {},
   "cell_type": "markdown",
   "metadata": {},
   "source": [
    "## Data Loading"
   ]
  },
  {
   "cell_type": "code",
   "execution_count": 16,
   "metadata": {},
   "outputs": [],
   "source": [
    "compute18 = False\n",
    "compute19 = False\n",
    "compute20 = False\n",
    "compute21 = False\n",
    "\n",
    "s_c18, c18 = load_data(18)\n",
    "s_c19, c19 = load_data(19)\n",
    "s_c20, c20 = load_data(20)\n",
    "s_c21, c21 = load_data(21)\n",
    "\n",
    "classrooms = pd.read_csv('data/SallesDeCours.csv', sep=';', index_col=0)\n",
    "\n",
    "distances = pd.read_csv('data/model_data/distances.csv', index_col=0)\n",
    "\n",
    "distance_between_classrooms = pd.read_csv('data/model_data/distance_between_classrooms.csv', index_col=0)\n",
    "\n",
    "conflicts18 = pd.read_csv('data/model_data/conflicts18.csv', index_col=0)\n",
    "conflicts19 = pd.read_csv('data/model_data/conflicts19.csv', index_col=0)\n",
    "conflicts20 = pd.read_csv('data/model_data/conflicts20.csv', index_col=0)\n",
    "conflicts21 = pd.read_csv('data/model_data/conflicts21.csv', index_col=0)\n",
    "\n",
    "enrolled18 = pd.read_csv('data/model_data/enrolled18.csv', index_col=0)\n",
    "enrolled19 = pd.read_csv('data/model_data/enrolled19.csv', index_col=0)\n",
    "enrolled20 = pd.read_csv('data/model_data/enrolled20.csv', index_col=0)\n",
    "enrolled21 = pd.read_csv('data/model_data/enrolled21.csv', index_col=0)\n",
    "\n",
    "with open('data/model_data/courses_per_student18.json', 'r') as fp:\n",
    "    courses_per_student18 = json.load(fp)\n",
    "with open('data/model_data/courses_per_student19.json', 'r') as fp:\n",
    "    courses_per_student19 = json.load(fp)\n",
    "with open('data/model_data/courses_per_student20.json', 'r') as fp:\n",
    "    courses_per_student20 = json.load(fp)\n",
    "with open('data/model_data/courses_per_student21.json', 'r') as fp:\n",
    "    courses_per_student21 = json.load(fp)\n",
    "\n",
    "flows18 = pd.read_csv('data/model_data/flows18.csv', index_col=0)\n",
    "flows19 = pd.read_csv('data/model_data/flows19.csv', index_col=0)\n",
    "flows20 = pd.read_csv('data/model_data/flows20.csv', index_col=0)\n",
    "flows21 = pd.read_csv('data/model_data/flows21.csv', index_col=0)"
   ]
  },
  {
   "attachments": {},
   "cell_type": "markdown",
   "metadata": {},
   "source": [
    "## Model Definition"
   ]
  },
  {
   "cell_type": "code",
   "execution_count": 17,
   "metadata": {},
   "outputs": [],
   "source": [
    "if compute18:\n",
    "    model18 = Model('room_optimizer18')\n",
    "elif compute19:\n",
    "    model19 = Model('room_optimizer19')\n",
    "elif compute20:\n",
    "    model20 = Model('room_optimizer20')\n",
    "elif compute21:\n",
    "    model21 = Model('room_optimizer21')"
   ]
  },
  {
   "attachments": {},
   "cell_type": "markdown",
   "metadata": {},
   "source": [
    "### Decision Variable\n",
    "\n",
    "We'll use a variable $x_{ij}$ to indicate if the course $i$ is scheduled in the classroom $j$."
   ]
  },
  {
   "cell_type": "code",
   "execution_count": 18,
   "metadata": {},
   "outputs": [],
   "source": [
    "if compute18:\n",
    "    x18 = model18.addVars(c18.index, classrooms.index, vtype=GRB.BINARY, name='x18')\n",
    "elif compute19:\n",
    "    x19 = model19.addVars(c19.index, classrooms.index, vtype=GRB.BINARY, name='x19')\n",
    "elif compute20:\n",
    "    x20 = model20.addVars(c20.index, classrooms.index, vtype=GRB.BINARY, name='x20')\n",
    "elif compute21:\n",
    "    x21 = model21.addVars(c21.index, classrooms.index, vtype=GRB.BINARY, name='x21')"
   ]
  },
  {
   "attachments": {},
   "cell_type": "markdown",
   "metadata": {},
   "source": [
    "### Objective Function\n"
   ]
  },
  {
   "cell_type": "code",
   "execution_count": 19,
   "metadata": {},
   "outputs": [],
   "source": [
    "if compute18:\n",
    "    model18.setObjective(0, GRB.MINIMIZE)\n",
    "elif compute19:\n",
    "    model19.setObjective(0, GRB.MINIMIZE)\n",
    "elif compute20:\n",
    "    model20.setObjective(0, GRB.MINIMIZE)\n",
    "elif compute21:\n",
    "    model21.setObjective(0, GRB.MINIMIZE)"
   ]
  },
  {
   "attachments": {},
   "cell_type": "markdown",
   "metadata": {},
   "source": [
    "### Constraints"
   ]
  },
  {
   "cell_type": "code",
   "execution_count": 20,
   "metadata": {},
   "outputs": [],
   "source": [
    "if compute18:\n",
    "    model18.addConstrs((x18.sum(ei, '*') == 1 for ei in c18.index), name='one_room18');\n",
    "elif compute19:\n",
    "    model19.addConstrs((x19.sum(ei, '*') == 1 for ei in c19.index), name='one_room19');\n",
    "elif compute20:\n",
    "    model20.addConstrs((x20.sum(ei, '*') == 1 for ei in c20.index), name='one_room20');\n",
    "elif compute21:\n",
    "    model21.addConstrs((x21.sum(ei, '*') == 1 for ei in c21.index), name='one_room21');"
   ]
  },
  {
   "cell_type": "code",
   "execution_count": 21,
   "metadata": {},
   "outputs": [],
   "source": [
    "if compute18:\n",
    "    for ei in tqdm(c18.index):\n",
    "        for ej in c18.index:\n",
    "            if conflicts18.loc[ei, ej] == 1:\n",
    "                for k in classrooms.index:\n",
    "                    model18.addConstr(x18[ei, k] + x18[ej, k] <= 1);\n",
    "elif compute19:\n",
    "    for ei in tqdm(c19.index):\n",
    "        for ej in c19.index:\n",
    "            if conflicts19.loc[ei, ej] == 1:\n",
    "                for k in classrooms.index:\n",
    "                    model19.addConstr(x19[ei, k] + x19[ej, k] <= 1);\n",
    "elif compute20:\n",
    "    for ei in tqdm(c20.index):\n",
    "        for ej in c20.index:\n",
    "            if conflicts20.loc[ei, ej] == 1:\n",
    "                for k in classrooms.index:\n",
    "                    model20.addConstr(x20[ei, k] + x20[ej, k] <= 1);\n",
    "elif compute21:\n",
    "    for ei in tqdm(c21.index):\n",
    "        for ej in c21.index:\n",
    "            if conflicts21.loc[ei, ej] == 1:\n",
    "                for k in classrooms.index:\n",
    "                    model21.addConstr(x21[ei, k] + x21[ej, k] <= 1);"
   ]
  },
  {
   "cell_type": "code",
   "execution_count": 22,
   "metadata": {},
   "outputs": [],
   "source": [
    "if compute18:    \n",
    "    for ei in tqdm(c18.index):\n",
    "        for k in classrooms.index:\n",
    "            model18.addConstr(x18[ei, k] * enrolled18.loc[ei, 'Enrolled'] <= 1.5*classrooms.loc[k, 'Capacity']);\n",
    "elif compute19:\n",
    "    for ei in tqdm(c19.index):\n",
    "        for k in classrooms.index:\n",
    "            model19.addConstr(x19[ei, k] * enrolled19.loc[ei, 'Enrolled'] <= 2*classrooms.loc[k, 'Capacity']);\n",
    "elif compute20:\n",
    "    for ei in tqdm(c20.index):\n",
    "        for k in classrooms.index:\n",
    "            model20.addConstr(x20[ei, k] * enrolled20.loc[ei, 'Enrolled'] <= 1.5*classrooms.loc[k, 'Capacity']);\n",
    "elif compute21:\n",
    "    for ei in tqdm(c21.index):\n",
    "        for k in classrooms.index:\n",
    "            model21.addConstr(x21[ei, k] * enrolled21.loc[ei, 'Enrolled'] <= 2*classrooms.loc[k, 'Capacity']);"
   ]
  },
  {
   "attachments": {},
   "cell_type": "markdown",
   "metadata": {},
   "source": [
    "### Optimize"
   ]
  },
  {
   "cell_type": "code",
   "execution_count": 23,
   "metadata": {},
   "outputs": [],
   "source": [
    "if compute18:\n",
    "    model18.optimize();\n",
    "elif compute19:\n",
    "    model19.optimize();\n",
    "elif compute20:\n",
    "    model20.optimize();\n",
    "elif compute21:\n",
    "    model21.optimize();"
   ]
  },
  {
   "cell_type": "code",
   "execution_count": 24,
   "metadata": {},
   "outputs": [],
   "source": [
    "if compute18:\n",
    "    allocation18 = pd.DataFrame(index=c18.index, columns=['Room'])\n",
    "    for ei in c18.index:\n",
    "        for k in classrooms.index:\n",
    "            if x18[ei, k].x == 1:\n",
    "                allocation18.loc[ei, 'Room'] = k\n",
    "    allocation18.to_csv('data/model_data/allocation18.csv')\n",
    "\n",
    "elif compute19:\n",
    "    allocation19 = pd.DataFrame(index=c19.index, columns=['Room'])\n",
    "    for ei in c19.index:\n",
    "        for k in classrooms.index:\n",
    "            if x19[ei, k].x == 1:\n",
    "                allocation19.loc[ei, 'Room'] = k\n",
    "    allocation19.to_csv('data/model_data/allocation19.csv')\n",
    "\n",
    "elif compute20:\n",
    "    allocation20 = pd.DataFrame(index=c20.index, columns=['Room'])\n",
    "    for ei in c20.index:\n",
    "        for k in classrooms.index:\n",
    "            if x20[ei, k].x == 1:\n",
    "                allocation20.loc[ei, 'Room'] = k\n",
    "    allocation20.to_csv('data/model_data/allocation20.csv')\n",
    "\n",
    "elif compute21:\n",
    "    allocation21 = pd.DataFrame(index=c21.index, columns=['Room'])\n",
    "    for ei in c21.index:\n",
    "        for k in classrooms.index:\n",
    "            if x21[ei, k].x == 1:\n",
    "                allocation21.loc[ei, 'Room'] = k\n",
    "    allocation21.to_csv('data/model_data/allocation21.csv')"
   ]
  },
  {
   "attachments": {},
   "cell_type": "markdown",
   "metadata": {},
   "source": [
    "### Results\n",
    "\n",
    "Although this solution was obtained by fixing the objective function to 0 and optimizing the model, it is still a valid solution.\n",
    "\n",
    "If we wanted to use the true objective function it would give the following result :"
   ]
  },
  {
   "cell_type": "code",
   "execution_count": 25,
   "metadata": {},
   "outputs": [
    {
     "name": "stdout",
     "output_type": "stream",
     "text": [
      "### 18-10-2021 ###\n"
     ]
    },
    {
     "name": "stderr",
     "output_type": "stream",
     "text": [
      "100%|██████████| 490/490 [00:10<00:00, 48.61it/s]\n"
     ]
    },
    {
     "name": "stdout",
     "output_type": "stream",
     "text": [
      "Total walking distance for 18-10-21:  1590695.0\n",
      "Total walking distance per student for 18-10-21:  90.40094339622641\n",
      "\n",
      "### 19-10-2021 ###\n"
     ]
    },
    {
     "name": "stderr",
     "output_type": "stream",
     "text": [
      "100%|██████████| 532/532 [00:11<00:00, 45.06it/s]\n"
     ]
    },
    {
     "name": "stdout",
     "output_type": "stream",
     "text": [
      "Total walking distance for 19-10-21:  4039884.0\n",
      "Total walking distance per student for 19-10-21:  235.67168358417922\n",
      "\n",
      "### 20-10-2021 ###\n"
     ]
    },
    {
     "name": "stderr",
     "output_type": "stream",
     "text": [
      "100%|██████████| 510/510 [00:10<00:00, 46.97it/s]\n"
     ]
    },
    {
     "name": "stdout",
     "output_type": "stream",
     "text": [
      "Total walking distance for 20-10-21:  2860262.0\n",
      "Total walking distance per student for 20-10-21:  164.2412862474878\n",
      "\n",
      "### 21-10-2021 ###\n"
     ]
    },
    {
     "name": "stderr",
     "output_type": "stream",
     "text": [
      "100%|██████████| 539/539 [00:12<00:00, 43.12it/s]"
     ]
    },
    {
     "name": "stdout",
     "output_type": "stream",
     "text": [
      "Total walking distance for 21-10-21:  2688294.0\n",
      "Total walking distance per student for 21-10-21:  149.90765627613897\n"
     ]
    },
    {
     "name": "stderr",
     "output_type": "stream",
     "text": [
      "\n"
     ]
    }
   ],
   "source": [
    "# 18-10-21\n",
    "print('### 18-10-2021 ###')\n",
    "allocation18 = pd.read_csv('data/model_data/allocation18.csv', index_col=0)\n",
    "\n",
    "total_walking_distance18 = 0\n",
    "for ei in tqdm(c18.index):\n",
    "    for ej in c18.index:\n",
    "        if ei != ej:\n",
    "            total_walking_distance18 += flows18.loc[ei, ej] * distance_between_classrooms.loc[allocation18.loc[ei, 'Room'], allocation18.loc[ej, 'Room']]\n",
    "\n",
    "total_walking_distance18_per_student = total_walking_distance18 / len(courses_per_student18)\n",
    "print('Total walking distance for 18-10-21: ', total_walking_distance18)\n",
    "print('Total walking distance per student for 18-10-21: ', total_walking_distance18_per_student)\n",
    "\n",
    "# 19-10-21\n",
    "print('\\n### 19-10-2021 ###')\n",
    "allocation19 = pd.read_csv('data/model_data/allocation19.csv', index_col=0)\n",
    "\n",
    "total_walking_distance19 = 0\n",
    "for ei in tqdm(c19.index):\n",
    "    for ej in c19.index:\n",
    "        if ei != ej:\n",
    "            total_walking_distance19 += flows19.loc[ei, ej] * distance_between_classrooms.loc[allocation19.loc[ei, 'Room'], allocation19.loc[ej, 'Room']]\n",
    "\n",
    "total_walking_distance19_per_student = total_walking_distance19 / len(courses_per_student19)\n",
    "print('Total walking distance for 19-10-21: ', total_walking_distance19)\n",
    "print('Total walking distance per student for 19-10-21: ', total_walking_distance19_per_student)\n",
    "\n",
    "# 20-10-21\n",
    "print('\\n### 20-10-2021 ###')\n",
    "allocation20 = pd.read_csv('data/model_data/allocation20.csv', index_col=0)\n",
    "\n",
    "total_walking_distance20 = 0\n",
    "for ei in tqdm(c20.index):\n",
    "    for ej in c20.index:\n",
    "        if ei != ej:\n",
    "            total_walking_distance20 += flows20.loc[ei, ej] * distance_between_classrooms.loc[allocation20.loc[ei, 'Room'], allocation20.loc[ej, 'Room']]\n",
    "\n",
    "total_walking_distance20_per_student = total_walking_distance20 / len(courses_per_student20)\n",
    "print('Total walking distance for 20-10-21: ', total_walking_distance20)\n",
    "print('Total walking distance per student for 20-10-21: ', total_walking_distance20_per_student)\n",
    "\n",
    "\n",
    "# 21-10-21\n",
    "print('\\n### 21-10-2021 ###')\n",
    "allocation21 = pd.read_csv('data/model_data/allocation21.csv', index_col=0)\n",
    "\n",
    "total_walking_distance21 = 0\n",
    "for ei in tqdm(c21.index):\n",
    "    for ej in c21.index:\n",
    "        if ei != ej:\n",
    "            total_walking_distance21 += flows21.loc[ei, ej] * distance_between_classrooms.loc[allocation21.loc[ei, 'Room'], allocation21.loc[ej, 'Room']]\n",
    "\n",
    "total_walking_distance21_per_student = total_walking_distance21 / len(courses_per_student21)\n",
    "print('Total walking distance for 21-10-21: ', total_walking_distance21)\n",
    "print('Total walking distance per student for 21-10-21: ', total_walking_distance21_per_student)"
   ]
  }
 ],
 "metadata": {
  "kernelspec": {
   "display_name": "base",
   "language": "python",
   "name": "python3"
  },
  "language_info": {
   "codemirror_mode": {
    "name": "ipython",
    "version": 3
   },
   "file_extension": ".py",
   "mimetype": "text/x-python",
   "name": "python",
   "nbconvert_exporter": "python",
   "pygments_lexer": "ipython3",
   "version": "3.9.13"
  },
  "orig_nbformat": 4
 },
 "nbformat": 4,
 "nbformat_minor": 2
}
