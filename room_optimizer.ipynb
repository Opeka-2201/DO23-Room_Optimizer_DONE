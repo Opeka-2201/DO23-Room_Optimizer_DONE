{
 "cells": [
  {
   "cell_type": "code",
   "execution_count": 39,
   "metadata": {},
   "outputs": [],
   "source": [
    "import pandas as pd\n",
    "import numpy as np\n",
    "import matplotlib.pyplot as plt\n",
    "import json"
   ]
  },
  {
   "cell_type": "code",
   "execution_count": 71,
   "metadata": {},
   "outputs": [
    {
     "data": {
      "text/html": [
       "<div>\n",
       "<style scoped>\n",
       "    .dataframe tbody tr th:only-of-type {\n",
       "        vertical-align: middle;\n",
       "    }\n",
       "\n",
       "    .dataframe tbody tr th {\n",
       "        vertical-align: top;\n",
       "    }\n",
       "\n",
       "    .dataframe thead th {\n",
       "        text-align: right;\n",
       "    }\n",
       "</style>\n",
       "<table border=\"1\" class=\"dataframe\">\n",
       "  <thead>\n",
       "    <tr style=\"text-align: right;\">\n",
       "      <th></th>\n",
       "      <th>Event</th>\n",
       "      <th>Start</th>\n",
       "      <th>End</th>\n",
       "      <th>Code cours</th>\n",
       "    </tr>\n",
       "  </thead>\n",
       "  <tbody>\n",
       "    <tr>\n",
       "      <th>0</th>\n",
       "      <td>10178-07</td>\n",
       "      <td>18-10-2021 10:00:00</td>\n",
       "      <td>18-10-2021 12:00:00</td>\n",
       "      <td>TRAD0110-B-a</td>\n",
       "    </tr>\n",
       "    <tr>\n",
       "      <th>1</th>\n",
       "      <td>10180-07</td>\n",
       "      <td>18-10-2021 16:00:00</td>\n",
       "      <td>18-10-2021 18:00:00</td>\n",
       "      <td>TRAD0096-A-a</td>\n",
       "    </tr>\n",
       "    <tr>\n",
       "      <th>2</th>\n",
       "      <td>1024-07</td>\n",
       "      <td>18-10-2021 08:30:00</td>\n",
       "      <td>18-10-2021 10:30:00</td>\n",
       "      <td>PHAC0341-A-b</td>\n",
       "    </tr>\n",
       "    <tr>\n",
       "      <th>3</th>\n",
       "      <td>10258-07</td>\n",
       "      <td>18-10-2021 14:00:00</td>\n",
       "      <td>18-10-2021 16:00:00</td>\n",
       "      <td>VETE0432-A-d</td>\n",
       "    </tr>\n",
       "    <tr>\n",
       "      <th>4</th>\n",
       "      <td>10398-07</td>\n",
       "      <td>18-10-2021 15:45:00</td>\n",
       "      <td>18-10-2021 17:45:00</td>\n",
       "      <td>CHIM0310-B-a</td>\n",
       "    </tr>\n",
       "  </tbody>\n",
       "</table>\n",
       "</div>"
      ],
      "text/plain": [
       "      Event                Start                  End    Code cours\n",
       "0  10178-07  18-10-2021 10:00:00  18-10-2021 12:00:00  TRAD0110-B-a\n",
       "1  10180-07  18-10-2021 16:00:00  18-10-2021 18:00:00  TRAD0096-A-a\n",
       "2   1024-07  18-10-2021 08:30:00  18-10-2021 10:30:00  PHAC0341-A-b\n",
       "3  10258-07  18-10-2021 14:00:00  18-10-2021 16:00:00  VETE0432-A-d\n",
       "4  10398-07  18-10-2021 15:45:00  18-10-2021 17:45:00  CHIM0310-B-a"
      ]
     },
     "execution_count": 71,
     "metadata": {},
     "output_type": "execute_result"
    }
   ],
   "source": [
    "distances = pd.read_excel('data/distances.xlsx', index_col=0)\n",
    "events18 = pd.read_csv('data/events18.csv',sep='\\t')\n",
    "events19 = pd.read_csv('data/events19.csv',sep='\\t')\n",
    "events20 = pd.read_csv('data/events20.csv',sep='\\t')\n",
    "events21 = pd.read_csv('data/events21.csv',sep='\\t')\n",
    "events = pd.concat([events18,events19,events20,events21]).reset_index(drop=True)\n",
    "sallesDeCours = pd.read_csv('data/SallesDeCours.csv',sep=';')\n",
    "students18 = json.load(open('data/students18.json'))\n",
    "students19 = json.load(open('data/students19.json'))\n",
    "students20 = json.load(open('data/students20.json'))\n",
    "students21 = json.load(open('data/students21.json'))\n",
    "students = {**students18,**students19,**students20,**students21}\n",
    "events.head()"
   ]
  }
 ],
 "metadata": {
  "kernelspec": {
   "display_name": "base",
   "language": "python",
   "name": "python3"
  },
  "language_info": {
   "codemirror_mode": {
    "name": "ipython",
    "version": 3
   },
   "file_extension": ".py",
   "mimetype": "text/x-python",
   "name": "python",
   "nbconvert_exporter": "python",
   "pygments_lexer": "ipython3",
   "version": "3.10.8"
  },
  "orig_nbformat": 4
 },
 "nbformat": 4,
 "nbformat_minor": 2
}
