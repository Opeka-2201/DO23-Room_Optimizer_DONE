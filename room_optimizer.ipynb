{
 "cells": [
  {
   "cell_type": "code",
   "execution_count": 150,
   "metadata": {},
   "outputs": [],
   "source": [
    "import pandas as pd\n",
    "import numpy as np\n",
    "import matplotlib.pyplot as plt\n",
    "import json\n",
    "from gurobipy import *\n"
   ]
  },
  {
   "cell_type": "code",
   "execution_count": 151,
   "metadata": {},
   "outputs": [],
   "source": [
    "distances = pd.read_excel('data/distances.xlsx', index_col=0)\n",
    "distances = distances.fillna(0)\n",
    "distances = distances + distances.T\n",
    "distances -= np.eye(distances.shape[0]) * 3\n",
    "\n",
    "\n",
    "events18 = pd.read_csv('data/events18.csv',sep='\\t',index_col=0)\n",
    "events18[\"Start\"] = pd.to_datetime(events18[\"Start\"])\n",
    "events18[\"End\"] = pd.to_datetime(events18[\"End\"])\n",
    "\n",
    "events19 = pd.read_csv('data/events19.csv',sep='\\t',index_col=0)\n",
    "events19[\"Start\"] = pd.to_datetime(events19[\"Start\"])\n",
    "events19[\"End\"] = pd.to_datetime(events19[\"End\"])\n",
    "\n",
    "events20 = pd.read_csv('data/events20.csv',sep='\\t',index_col=0)\n",
    "events20[\"Start\"] = pd.to_datetime(events20[\"Start\"])\n",
    "events20[\"End\"] = pd.to_datetime(events20[\"End\"])\n",
    "\n",
    "events21 = pd.read_csv('data/events21.csv',sep='\\t',index_col=0)\n",
    "events21[\"Start\"] = pd.to_datetime(events21[\"Start\"])\n",
    "events21[\"End\"] = pd.to_datetime(events21[\"End\"])\n",
    "\n",
    "sallesDeCours = pd.read_csv('data/SallesDeCours.csv',sep=';')\n",
    "\n",
    "students18 = json.load(open('data/students18.json'))\n",
    "students19 = json.load(open('data/students19.json'))\n",
    "students20 = json.load(open('data/students20.json'))\n",
    "students21 = json.load(open('data/students21.json'))"
   ]
  },
  {
   "cell_type": "code",
   "execution_count": 152,
   "metadata": {},
   "outputs": [],
   "source": [
    "# Function to check if two intervals intersect\n",
    "def time_intersect(int1,int2):\n",
    "    if int1[0] < int2[0] < int1[1] or int1[0] < int2[1] < int1[1]: # event 2 starts or ends during event 1\n",
    "        return 1\n",
    "    elif int2[0] < int1[0] < int2[1] or int2[0] < int1[1] < int2[1]: # event 1 starts or ends during event 2\n",
    "        return 1\n",
    "    else:\n",
    "        return 0\n",
    "\n",
    "# function to create a dictionnary with students as keys and list of events as values\n",
    "def get_courses(students, events):\n",
    "    courses = {}\n",
    "    for event in students:\n",
    "        for student in students[event]:\n",
    "            if student not in courses:\n",
    "                courses[student] = [event]\n",
    "            else:\n",
    "                courses[student].append(event)\n",
    "\n",
    "    for student in courses:\n",
    "        courses[student] = sorted(courses[student], key=lambda x: events.loc[x][\"Start\"])\n",
    "        \n",
    "    return courses\n",
    "\n",
    "# function to create a pandas dataframe with salles names as index and columns and the distance between them as values\n",
    "def get_full_distances(distances, salles):\n",
    "    # create dataframe with all distances between all rooms \n",
    "    full_distances = np.zeros((len(salles), len(salles)))\n",
    "    for i in range(len(salles)):\n",
    "        for j in range(len(salles)):\n",
    "            if salles[\"Building\"][i] == salles[\"Building\"][j]:\n",
    "                full_distances[i,j] = 0\n",
    "            else:\n",
    "                full_distances[i,j] = distances.loc[salles[\"Name\"][i][0], salles[\"Name\"][j][0]]\n",
    "    full_distances = pd.DataFrame(full_distances, index=salles[\"Name\"], columns=salles[\"Name\"])\n",
    "\n",
    "    return full_distances\n",
    "\n",
    "# function to compute the number of students moving from one event to another \n",
    "def get_students_flow(courses, events):\n",
    "    flows = np.zeros((len(events), len(events)))\n",
    "    flows = pd.DataFrame(flows, index=events.index, columns=events.index)\n",
    "    for course in courses:\n",
    "        for i in range(len(courses[course])-1):\n",
    "            flows.loc[courses[course][i], courses[course][i+1]] += 1\n",
    "    return flows\n",
    "    \n"
   ]
  },
  {
   "cell_type": "code",
   "execution_count": 153,
   "metadata": {},
   "outputs": [],
   "source": [
    "courses18 = get_courses(students18, events18)\n",
    "courses19 = get_courses(students19, events19)\n",
    "courses20 = get_courses(students20, events20)\n",
    "courses21 = get_courses(students21, events21)"
   ]
  },
  {
   "cell_type": "code",
   "execution_count": 154,
   "metadata": {},
   "outputs": [],
   "source": [
    "full_distances = get_full_distances(distances, sallesDeCours)"
   ]
  },
  {
   "cell_type": "code",
   "execution_count": 155,
   "metadata": {},
   "outputs": [],
   "source": [
    "flows18 = get_students_flow(courses18, events18)\n",
    "flows19 = get_students_flow(courses19, events19)\n",
    "flows20 = get_students_flow(courses20, events20)\n",
    "flows21 = get_students_flow(courses21, events21)"
   ]
  },
  {
   "cell_type": "code",
   "execution_count": 156,
   "metadata": {},
   "outputs": [
    {
     "name": "stdout",
     "output_type": "stream",
     "text": [
      "Set parameter Username\n"
     ]
    },
    {
     "ename": "GurobiError",
     "evalue": "Version number is 10.0, license is for version 9.0",
     "output_type": "error",
     "traceback": [
      "\u001b[1;31m---------------------------------------------------------------------------\u001b[0m",
      "\u001b[1;31mGurobiError\u001b[0m                               Traceback (most recent call last)",
      "Cell \u001b[1;32mIn[156], line 1\u001b[0m\n\u001b[1;32m----> 1\u001b[0m m \u001b[39m=\u001b[39m Model(\u001b[39m\"\u001b[39;49m\u001b[39mroom_allocation\u001b[39;49m\u001b[39m\"\u001b[39;49m)\n",
      "File \u001b[1;32msrc\\gurobipy\\model.pxi:69\u001b[0m, in \u001b[0;36mgurobipy.Model.__init__\u001b[1;34m()\u001b[0m\n",
      "File \u001b[1;32msrc\\gurobipy\\gurobi.pxi:28\u001b[0m, in \u001b[0;36mgurobipy.gurobi._getdefaultenv\u001b[1;34m()\u001b[0m\n",
      "File \u001b[1;32msrc\\gurobipy\\env.pxi:62\u001b[0m, in \u001b[0;36mgurobipy.Env.__init__\u001b[1;34m()\u001b[0m\n",
      "\u001b[1;31mGurobiError\u001b[0m: Version number is 10.0, license is for version 9.0"
     ]
    }
   ],
   "source": [
    "m = Model(\"room_allocation\")"
   ]
  },
  {
   "cell_type": "code",
   "execution_count": null,
   "metadata": {},
   "outputs": [],
   "source": []
  },
  {
   "cell_type": "code",
   "execution_count": null,
   "metadata": {},
   "outputs": [],
   "source": []
  },
  {
   "cell_type": "code",
   "execution_count": null,
   "metadata": {},
   "outputs": [],
   "source": []
  }
 ],
 "metadata": {
  "kernelspec": {
   "display_name": "base",
   "language": "python",
   "name": "python3"
  },
  "language_info": {
   "codemirror_mode": {
    "name": "ipython",
    "version": 3
   },
   "file_extension": ".py",
   "mimetype": "text/x-python",
   "name": "python",
   "nbconvert_exporter": "python",
   "pygments_lexer": "ipython3",
   "version": "3.10.8"
  },
  "orig_nbformat": 4
 },
 "nbformat": 4,
 "nbformat_minor": 2
}
