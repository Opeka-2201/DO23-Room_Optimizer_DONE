{
 "cells": [
  {
   "cell_type": "code",
   "execution_count": 13,
   "metadata": {},
   "outputs": [],
   "source": [
    "import pandas as pd\n",
    "import numpy as np\n",
    "import json\n",
    "from tqdm import tqdm\n",
    "from gurobipy import *"
   ]
  },
  {
   "cell_type": "code",
   "execution_count": 14,
   "metadata": {},
   "outputs": [],
   "source": [
    "distances = pd.read_excel('data/distances.xlsx', index_col=0)\n",
    "distances = distances.fillna(0)\n",
    "distances = distances + distances.T\n",
    "distances -= np.eye(distances.shape[0]) * 3\n",
    "\n",
    "\n",
    "events18 = pd.read_csv('data/events18.csv',sep='\\t',index_col=0)\n",
    "events18[\"Start\"] = pd.to_datetime(events18[\"Start\"])\n",
    "events18[\"End\"] = pd.to_datetime(events18[\"End\"])\n",
    "\n",
    "events19 = pd.read_csv('data/events19.csv',sep='\\t',index_col=0)\n",
    "events19[\"Start\"] = pd.to_datetime(events19[\"Start\"])\n",
    "events19[\"End\"] = pd.to_datetime(events19[\"End\"])\n",
    "\n",
    "events20 = pd.read_csv('data/events20.csv',sep='\\t',index_col=0)\n",
    "events20[\"Start\"] = pd.to_datetime(events20[\"Start\"])\n",
    "events20[\"End\"] = pd.to_datetime(events20[\"End\"])\n",
    "\n",
    "events21 = pd.read_csv('data/events21.csv',sep='\\t',index_col=0)\n",
    "events21[\"Start\"] = pd.to_datetime(events21[\"Start\"])\n",
    "events21[\"End\"] = pd.to_datetime(events21[\"End\"])\n",
    "\n",
    "sallesDeCours = pd.read_csv('data/SallesDeCours.csv',sep=';')\n",
    "\n",
    "students18 = json.load(open('data/students18.json'))\n",
    "students19 = json.load(open('data/students19.json'))\n",
    "students20 = json.load(open('data/students20.json'))\n",
    "students21 = json.load(open('data/students21.json'))"
   ]
  },
  {
   "cell_type": "code",
   "execution_count": 15,
   "metadata": {},
   "outputs": [],
   "source": [
    "# Function to check if two intervals intersect\n",
    "def time_intersect(int1,int2):\n",
    "    if int1[0] < int2[0] < int1[1] or int1[0] < int2[1] < int1[1]: # event 2 starts or ends during event 1\n",
    "        return 1\n",
    "    elif int2[0] < int1[0] < int2[1] or int2[0] < int1[1] < int2[1]: # event 1 starts or ends during event 2\n",
    "        return 1\n",
    "    else:\n",
    "        return 0\n",
    "\n",
    "# function to create a dictionnary with students as keys and list of events as values\n",
    "def get_courses(students, events):\n",
    "    print(\"Creating courses per student dictionary ...\")\n",
    "    courses = {}\n",
    "    for event in tqdm(students):\n",
    "        for student in students[event]:\n",
    "            if student not in courses:\n",
    "                courses[student] = [event]\n",
    "            else:\n",
    "                courses[student].append(event)\n",
    "\n",
    "    for student in courses:\n",
    "        courses[student] = sorted(courses[student], key=lambda x: events.loc[x][\"Start\"])\n",
    "        \n",
    "    return courses\n",
    "\n",
    "# function to create a pandas dataframe with salles names as index and columns and the distance between them as values\n",
    "def get_full_distances(distances, salles):\n",
    "    print(\"Creating full distances dataframe ...\")\n",
    "    # create dataframe with all distances between all rooms \n",
    "    full_distances = np.zeros((len(salles), len(salles)))\n",
    "    for i in tqdm(range(len(salles))):\n",
    "        for j in range(len(salles)):\n",
    "            if salles[\"Building\"][i] == salles[\"Building\"][j]:\n",
    "                full_distances[i,j] = 0\n",
    "            else:\n",
    "                full_distances[i,j] = distances.loc[salles[\"Name\"][i][0], salles[\"Name\"][j][0]]\n",
    "    full_distances = pd.DataFrame(full_distances, index=salles[\"Name\"], columns=salles[\"Name\"])\n",
    "\n",
    "    return full_distances\n",
    "\n",
    "# function to compute the number of students moving from one event to another \n",
    "def get_students_flow(courses, events):\n",
    "    print(\"Creating students flow dataframe ...\")\n",
    "    flows = np.zeros((len(events), len(events)))\n",
    "    flows = pd.DataFrame(flows, index=events.index, columns=events.index)\n",
    "    for course in tqdm(courses):\n",
    "        for i in range(len(courses[course])-1):\n",
    "            flows.loc[courses[course][i], courses[course][i+1]] += 1\n",
    "    return flows\n",
    "    \n"
   ]
  },
  {
   "cell_type": "code",
   "execution_count": 16,
   "metadata": {},
   "outputs": [
    {
     "name": "stdout",
     "output_type": "stream",
     "text": [
      "Creating courses per student dictionary ...\n"
     ]
    },
    {
     "name": "stderr",
     "output_type": "stream",
     "text": [
      "100%|██████████| 490/490 [00:00<00:00, 13477.13it/s]\n"
     ]
    },
    {
     "name": "stdout",
     "output_type": "stream",
     "text": [
      "Creating courses per student dictionary ...\n"
     ]
    },
    {
     "name": "stderr",
     "output_type": "stream",
     "text": [
      "100%|██████████| 532/532 [00:00<00:00, 27040.68it/s]\n"
     ]
    },
    {
     "name": "stdout",
     "output_type": "stream",
     "text": [
      "Creating courses per student dictionary ...\n"
     ]
    },
    {
     "name": "stderr",
     "output_type": "stream",
     "text": [
      "100%|██████████| 510/510 [00:00<00:00, 42972.70it/s]\n"
     ]
    },
    {
     "name": "stdout",
     "output_type": "stream",
     "text": [
      "Creating courses per student dictionary ...\n"
     ]
    },
    {
     "name": "stderr",
     "output_type": "stream",
     "text": [
      "100%|██████████| 539/539 [00:00<00:00, 44574.51it/s]\n"
     ]
    }
   ],
   "source": [
    "courses18 = get_courses(students18, events18)\n",
    "courses19 = get_courses(students19, events19)\n",
    "courses20 = get_courses(students20, events20)\n",
    "courses21 = get_courses(students21, events21)"
   ]
  },
  {
   "cell_type": "code",
   "execution_count": 17,
   "metadata": {},
   "outputs": [
    {
     "name": "stdout",
     "output_type": "stream",
     "text": [
      "Creating full distances dataframe ...\n"
     ]
    },
    {
     "name": "stderr",
     "output_type": "stream",
     "text": [
      "100%|██████████| 329/329 [00:02<00:00, 139.18it/s]\n"
     ]
    }
   ],
   "source": [
    "full_distances = get_full_distances(distances, sallesDeCours)"
   ]
  },
  {
   "cell_type": "code",
   "execution_count": 18,
   "metadata": {},
   "outputs": [
    {
     "name": "stdout",
     "output_type": "stream",
     "text": [
      "Creating students flow dataframe ...\n"
     ]
    },
    {
     "name": "stderr",
     "output_type": "stream",
     "text": [
      "100%|██████████| 17596/17596 [00:03<00:00, 5752.10it/s]\n"
     ]
    },
    {
     "name": "stdout",
     "output_type": "stream",
     "text": [
      "Creating students flow dataframe ...\n"
     ]
    },
    {
     "name": "stderr",
     "output_type": "stream",
     "text": [
      "100%|██████████| 17142/17142 [00:05<00:00, 3336.08it/s]\n"
     ]
    },
    {
     "name": "stdout",
     "output_type": "stream",
     "text": [
      "Creating students flow dataframe ...\n"
     ]
    },
    {
     "name": "stderr",
     "output_type": "stream",
     "text": [
      "100%|██████████| 17415/17415 [00:04<00:00, 4181.90it/s]\n"
     ]
    },
    {
     "name": "stdout",
     "output_type": "stream",
     "text": [
      "Creating students flow dataframe ...\n"
     ]
    },
    {
     "name": "stderr",
     "output_type": "stream",
     "text": [
      "100%|██████████| 17933/17933 [00:04<00:00, 4217.35it/s]\n"
     ]
    }
   ],
   "source": [
    "flows18 = get_students_flow(courses18, events18)\n",
    "flows19 = get_students_flow(courses19, events19)\n",
    "flows20 = get_students_flow(courses20, events20)\n",
    "flows21 = get_students_flow(courses21, events21)"
   ]
  },
  {
   "cell_type": "code",
   "execution_count": 21,
   "metadata": {},
   "outputs": [
    {
     "name": "stderr",
     "output_type": "stream",
     "text": [
      "100%|██████████| 329/329 [00:00<00:00, 50288.85it/s]\n",
      "100%|██████████| 490/490 [00:00<00:00, 513032.69it/s]\n",
      "100%|██████████| 490/490 [00:04<00:00, 109.82it/s]\n",
      "100%|██████████| 329/329 [00:01<00:00, 168.18it/s]\n"
     ]
    }
   ],
   "source": [
    "l_students18 = list(students18.keys())\n",
    "\n",
    "l_events18 = list(events18.index)\n",
    "\n",
    "l_rooms = list(sallesDeCours[\"Name\"])\n",
    "\n",
    "capacities = {}\n",
    "for i in tqdm(range(len(sallesDeCours))):\n",
    "    capacities[sallesDeCours[\"Name\"][i]] = sallesDeCours[\"Capacity\"][i]\n",
    "\n",
    "nb_enrolled = {}\n",
    "for i in tqdm(range(len(students18))):\n",
    "    nb_enrolled[events18.index[i]] = len(students18[events18.index[i]])\n",
    "\n",
    "flows_dict = {}\n",
    "for i in tqdm(range(len(flows18))):\n",
    "    flows_dict[flows18.index[i]] = {}\n",
    "    for j in range(len(flows18)):\n",
    "        flows_dict[flows18.index[i]][flows18.index[j]] = flows18.iloc[i,j]\n",
    "\n",
    "distances_dict = {}\n",
    "for i in tqdm(range(len(full_distances))):\n",
    "    distances_dict[full_distances.index[i]] = {}\n",
    "    for j in range(len(full_distances)):\n",
    "        distances_dict[full_distances.index[i]][full_distances.index[j]] = full_distances.iloc[i,j]"
   ]
  },
  {
   "cell_type": "code",
   "execution_count": 32,
   "metadata": {},
   "outputs": [
    {
     "name": "stderr",
     "output_type": "stream",
     "text": [
      "  2%|▏         | 12/490 [01:56<1:17:32,  9.73s/it]"
     ]
    },
    {
     "ename": "KeyboardInterrupt",
     "evalue": "",
     "output_type": "error",
     "traceback": [
      "\u001b[0;31m---------------------------------------------------------------------------\u001b[0m",
      "\u001b[0;31mKeyboardInterrupt\u001b[0m                         Traceback (most recent call last)",
      "Cell \u001b[0;32mIn[32], line 16\u001b[0m\n\u001b[1;32m     13\u001b[0m model18\u001b[39m.\u001b[39maddConstrs((x\u001b[39m.\u001b[39mprod(nb_enrolled, i, \u001b[39m'\u001b[39m\u001b[39m*\u001b[39m\u001b[39m'\u001b[39m) \u001b[39m<\u001b[39m\u001b[39m=\u001b[39m \u001b[39m1.2\u001b[39m\u001b[39m*\u001b[39mcapacities[i] \u001b[39mfor\u001b[39;00m i \u001b[39min\u001b[39;00m l_rooms), name\u001b[39m=\u001b[39m\u001b[39m\"\u001b[39m\u001b[39mc2\u001b[39m\u001b[39m\"\u001b[39m)\n\u001b[1;32m     15\u001b[0m \u001b[39m# two events organized in the same room cannot intersect use the function time_intersect\u001b[39;00m\n\u001b[0;32m---> 16\u001b[0m model18\u001b[39m.\u001b[39;49maddConstrs((x[i, j] \u001b[39m+\u001b[39;49m x[k, j] \u001b[39m<\u001b[39;49m\u001b[39m=\u001b[39;49m \u001b[39m1\u001b[39;49m \u001b[39m+\u001b[39;49m time_intersect([events18[\u001b[39m\"\u001b[39;49m\u001b[39mStart\u001b[39;49m\u001b[39m\"\u001b[39;49m][i], events18[\u001b[39m\"\u001b[39;49m\u001b[39mEnd\u001b[39;49m\u001b[39m\"\u001b[39;49m][i]], [events18[\u001b[39m\"\u001b[39;49m\u001b[39mStart\u001b[39;49m\u001b[39m\"\u001b[39;49m][k], events18[\u001b[39m\"\u001b[39;49m\u001b[39mEnd\u001b[39;49m\u001b[39m\"\u001b[39;49m][k]]) \u001b[39mfor\u001b[39;49;00m i \u001b[39min\u001b[39;49;00m tqdm(l_events18) \u001b[39mfor\u001b[39;49;00m j \u001b[39min\u001b[39;49;00m l_rooms \u001b[39mfor\u001b[39;49;00m k \u001b[39min\u001b[39;49;00m l_events18 \u001b[39mif\u001b[39;49;00m i \u001b[39m!=\u001b[39;49m k), name\u001b[39m=\u001b[39;49m\u001b[39m\"\u001b[39;49m\u001b[39mc3\u001b[39;49m\u001b[39m\"\u001b[39;49m)\n\u001b[1;32m     18\u001b[0m \u001b[39m# Objective\u001b[39;00m\n\u001b[1;32m     19\u001b[0m \u001b[39m# minimize the distance between events for each student using full_distances and flows created above\u001b[39;00m\n\u001b[1;32m     20\u001b[0m model18\u001b[39m.\u001b[39msetObjective(x\u001b[39m.\u001b[39mprod(distances_dict, \u001b[39m'\u001b[39m\u001b[39m*\u001b[39m\u001b[39m'\u001b[39m, \u001b[39m'\u001b[39m\u001b[39m*\u001b[39m\u001b[39m'\u001b[39m) \u001b[39m+\u001b[39m x\u001b[39m.\u001b[39mprod(flows_dict, \u001b[39m'\u001b[39m\u001b[39m*\u001b[39m\u001b[39m'\u001b[39m, \u001b[39m'\u001b[39m\u001b[39m*\u001b[39m\u001b[39m'\u001b[39m), GRB\u001b[39m.\u001b[39mMINIMIZE)\n",
      "File \u001b[0;32msrc/gurobipy/model.pxi:3755\u001b[0m, in \u001b[0;36mgurobipy.Model.addConstrs\u001b[0;34m()\u001b[0m\n",
      "Cell \u001b[0;32mIn[32], line 16\u001b[0m, in \u001b[0;36m<genexpr>\u001b[0;34m(.0)\u001b[0m\n\u001b[1;32m     13\u001b[0m model18\u001b[39m.\u001b[39maddConstrs((x\u001b[39m.\u001b[39mprod(nb_enrolled, i, \u001b[39m'\u001b[39m\u001b[39m*\u001b[39m\u001b[39m'\u001b[39m) \u001b[39m<\u001b[39m\u001b[39m=\u001b[39m \u001b[39m1.2\u001b[39m\u001b[39m*\u001b[39mcapacities[i] \u001b[39mfor\u001b[39;00m i \u001b[39min\u001b[39;00m l_rooms), name\u001b[39m=\u001b[39m\u001b[39m\"\u001b[39m\u001b[39mc2\u001b[39m\u001b[39m\"\u001b[39m)\n\u001b[1;32m     15\u001b[0m \u001b[39m# two events organized in the same room cannot intersect use the function time_intersect\u001b[39;00m\n\u001b[0;32m---> 16\u001b[0m model18\u001b[39m.\u001b[39maddConstrs((x[i, j] \u001b[39m+\u001b[39m x[k, j] \u001b[39m<\u001b[39m\u001b[39m=\u001b[39m \u001b[39m1\u001b[39m \u001b[39m+\u001b[39m time_intersect([events18[\u001b[39m\"\u001b[39m\u001b[39mStart\u001b[39m\u001b[39m\"\u001b[39m][i], events18[\u001b[39m\"\u001b[39m\u001b[39mEnd\u001b[39m\u001b[39m\"\u001b[39m][i]], [events18[\u001b[39m\"\u001b[39m\u001b[39mStart\u001b[39m\u001b[39m\"\u001b[39m][k], events18[\u001b[39m\"\u001b[39m\u001b[39mEnd\u001b[39m\u001b[39m\"\u001b[39m][k]]) \u001b[39mfor\u001b[39;00m i \u001b[39min\u001b[39;00m tqdm(l_events18) \u001b[39mfor\u001b[39;00m j \u001b[39min\u001b[39;00m l_rooms \u001b[39mfor\u001b[39;00m k \u001b[39min\u001b[39;00m l_events18 \u001b[39mif\u001b[39;00m i \u001b[39m!=\u001b[39m k), name\u001b[39m=\u001b[39m\u001b[39m\"\u001b[39m\u001b[39mc3\u001b[39m\u001b[39m\"\u001b[39m)\n\u001b[1;32m     18\u001b[0m \u001b[39m# Objective\u001b[39;00m\n\u001b[1;32m     19\u001b[0m \u001b[39m# minimize the distance between events for each student using full_distances and flows created above\u001b[39;00m\n\u001b[1;32m     20\u001b[0m model18\u001b[39m.\u001b[39msetObjective(x\u001b[39m.\u001b[39mprod(distances_dict, \u001b[39m'\u001b[39m\u001b[39m*\u001b[39m\u001b[39m'\u001b[39m, \u001b[39m'\u001b[39m\u001b[39m*\u001b[39m\u001b[39m'\u001b[39m) \u001b[39m+\u001b[39m x\u001b[39m.\u001b[39mprod(flows_dict, \u001b[39m'\u001b[39m\u001b[39m*\u001b[39m\u001b[39m'\u001b[39m, \u001b[39m'\u001b[39m\u001b[39m*\u001b[39m\u001b[39m'\u001b[39m), GRB\u001b[39m.\u001b[39mMINIMIZE)\n",
      "\u001b[0;31mKeyboardInterrupt\u001b[0m: "
     ]
    }
   ],
   "source": [
    "# MIP Model\n",
    "model18 = Model(\"room_allocation\")\n",
    "\n",
    "# Variables\n",
    "# x_i,j = 1 if event i is in room j, 0 otherwise\n",
    "x = model18.addVars(l_events18, l_rooms, vtype=GRB.BINARY, name=\"x\")\n",
    "\n",
    "# Constraints\n",
    "# each event is in one room\n",
    "model18.addConstrs((x.sum(i, '*') == 1 for i in l_events18), name=\"c1\")\n",
    "\n",
    "# each room has a capacity (multiplied by 1.2 to allow for 20% more students than capacity)\n",
    "model18.addConstrs((x.prod(nb_enrolled, i, '*') <= 1.2*capacities[i] for i in l_rooms), name=\"c2\")\n",
    "\n",
    "# two events organized in the same room cannot intersect use the function time_intersect which returns 1 if two intervals intersect \n",
    "model18.addConstrs((x[i, j] + x[k, j] <= 2 - time_intersect([events18[\"Start\"][i], events18[\"End\"][i]], [events18[\"Start\"][k], events18[\"End\"][k]]) for i in l_events18 for j in l_rooms for k in l_events18 if i != k), name=\"c3\")\n",
    "\n",
    "# Objective\n",
    "# minimize the distance between events for each student using full_distances and flows created above\n",
    "model18.setObjective(x.prod(distances_dict, '*', '*') + x.prod(flows_dict, '*', '*'), GRB.MINIMIZE)\n",
    "\n",
    "# Optimize\n",
    "model18.optimize()\n"
   ]
  },
  {
   "cell_type": "code",
   "execution_count": 30,
   "metadata": {},
   "outputs": [
    {
     "name": "stdout",
     "output_type": "stream",
     "text": [
      "Number of variables that are True: 490\n",
      "Obj: 0\n"
     ]
    }
   ],
   "source": [
    "# print number of variables that are True\n",
    "print('Number of variables that are True: %g' % sum([x[i,j].x for i in l_events18 for j in l_rooms]))\n",
    "\n",
    "# print objective\n",
    "print('Obj: %g' % model18.objVal)"
   ]
  }
 ],
 "metadata": {
  "kernelspec": {
   "display_name": "base",
   "language": "python",
   "name": "python3"
  },
  "language_info": {
   "codemirror_mode": {
    "name": "ipython",
    "version": 3
   },
   "file_extension": ".py",
   "mimetype": "text/x-python",
   "name": "python",
   "nbconvert_exporter": "python",
   "pygments_lexer": "ipython3",
   "version": "3.11.0"
  },
  "orig_nbformat": 4
 },
 "nbformat": 4,
 "nbformat_minor": 2
}
